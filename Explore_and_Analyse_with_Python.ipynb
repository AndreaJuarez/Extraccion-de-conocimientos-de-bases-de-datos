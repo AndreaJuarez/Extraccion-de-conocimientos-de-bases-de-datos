{
  "nbformat": 4,
  "nbformat_minor": 0,
  "metadata": {
    "colab": {
      "name": "Explore and Analyse with Python.ipynb",
      "provenance": [],
      "toc_visible": true,
      "authorship_tag": "ABX9TyME0SuMt1d0rBjj/Sxkx9Nb",
      "include_colab_link": true
    },
    "kernelspec": {
      "name": "python3",
      "display_name": "Python 3"
    },
    "language_info": {
      "name": "python"
    }
  },
  "cells": [
    {
      "cell_type": "markdown",
      "metadata": {
        "id": "view-in-github",
        "colab_type": "text"
      },
      "source": [
        "<a href=\"https://colab.research.google.com/github/AndreaJuarez/Extraccion-de-conocimientos-de-bases-de-datos/blob/main/Explore_and_Analyse_with_Python.ipynb\" target=\"_parent\"><img src=\"https://colab.research.google.com/assets/colab-badge.svg\" alt=\"Open In Colab\"/></a>"
      ]
    },
    {
      "cell_type": "markdown",
      "metadata": {
        "id": "AXt8E-5xV49P"
      },
      "source": [
        "# Explore y Analice datos con Python\n",
        "La exploración y el análisis de datos son el núcleo de la ciencia de datos. Los científicos de datos requieren habilidades en lenguajes como Python para explorar, visualizar y manipular datos.\n"
      ]
    },
    {
      "cell_type": "markdown",
      "metadata": {
        "id": "U3RqG3BzXXV0"
      },
      "source": [
        "# I. Introducción\n",
        "Como era de esperar, el papel de un científico de datos implica principalmente explorar y analizar datos. Los resultados de un análisis pueden formar la base de un informe o un modelo de aprendizaje automático, pero todo comienza con los datos, siendo Python el lenguaje de programación más popular para los científicos de datos.\n",
        "\n",
        "Después de décadas de desarrollo de código abierto, Python proporciona una amplia funcionalidad con potentes bibliotecas estadísticas y numéricas:\n",
        "* NumPy y Pandas simplifican el análisis y la manipulación de datos\n",
        "* Matplotlib proporciona atractivas visualizaciones de datos\n",
        "* Scikit-learn ofrece un análisis predictivo de datos simple y efectivo\n",
        "* TensorFlow y PyTorch proporcionan capacidades de aprendizaje automático y aprendizaje profundo\n",
        "\n",
        "Por lo general, un proyecto de análisis de datos está diseñado para establecer ideas sobre un escenario en particular o para probar una hipótesis.\n",
        "\n",
        "Por ejemplo, supongamos que un profesor universitario recopila datos de sus estudiantes, incluido el número de conferencias a las que asistió, las horas dedicadas a estudiar y la calificación final lograda al final del examen de fin de trimestre. El profesor podría analizar los datos para determinar si existe una relación entre la cantidad de estudios que realiza un estudiante y la calificación final que obtiene. El profesor podría usar los datos para probar una hipótesis de que solo los estudiantes que estudian durante un número mínimo de horas pueden esperar lograr una calificación aprobatoria.\n",
        "\n",
        "### Prerrequisitos\n",
        "* Conocimientos de matemáticas básicas\n",
        "* Algo de experiencia programando en Python\n",
        "\n",
        "### Objetivos de aprendizaje\n",
        "En este módulo, usted:\n",
        "* Tareas comunes de exploración y análisis de datos.\n",
        "* Cómo usar paquetes de Python como NumPy, Pandas y Matplotlib para analizar datos"
      ]
    },
    {
      "cell_type": "markdown",
      "metadata": {
        "id": "krJqYIhoYvY8"
      },
      "source": [
        "# II. Explora datos con NumPy y Pandas\n",
        "Los científicos de datos pueden usar varias herramientas y técnicas para explorar, visualizar y manipular datos. Una de las formas más comunes en que los científicos de datos trabajan con datos es usar el lenguaje Python y algunos paquetes específicos para el procesamiento de datos.\n",
        "\n",
        "### ¿Qué es NumPy?\n",
        "NumPy es una biblioteca de Python que proporciona una funcionalidad comparable a herramientas matemáticas como MATLAB y R. Si bien NumPy simplifica significativamente la experiencia del usuario, también ofrece funciones matemáticas integrales.\n",
        "\n",
        "### ¿Qué es Pandas?\n",
        "Pandas es una biblioteca de Python extremadamente popular para el análisis y la manipulación de datos. Pandas es como Excel para Python: proporciona una funcionalidad fácil de usar para las tablas de datos.\n",
        "\n",
        "\n",
        "### Explorar datos en un bloc de notas de Jupyter\n",
        "Los blocs de notas jupyter son una forma popular de ejecutar scripts básicos utilizando su navegador web. Normalmente, estos blocs de notas son una sola página web, dividida en secciones de texto y secciones de código que se ejecutan en el servidor en lugar de en el equipo local. Esto significa que puede comenzar rápidamente sin necesidad de instalar Python u otras herramientas."
      ]
    }
  ]
}